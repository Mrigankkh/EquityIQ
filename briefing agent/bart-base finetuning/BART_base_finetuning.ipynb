{
  "metadata": {
    "kernelspec": {
      "language": "python",
      "display_name": "Python 3",
      "name": "python3"
    },
    "language_info": {
      "name": "python",
      "version": "3.10.12",
      "mimetype": "text/x-python",
      "codemirror_mode": {
        "name": "ipython",
        "version": 3
      },
      "pygments_lexer": "ipython3",
      "nbconvert_exporter": "python",
      "file_extension": ".py"
    },
    "kaggle": {
      "accelerator": "nvidiaTeslaT4",
      "dataSources": [
        {
          "sourceId": 11301558,
          "sourceType": "datasetVersion",
          "datasetId": 7067734
        }
      ],
      "dockerImageVersionId": 30919,
      "isInternetEnabled": true,
      "language": "python",
      "sourceType": "notebook",
      "isGpuEnabled": true
    },
    "colab": {
      "provenance": []
    }
  },
  "nbformat_minor": 0,
  "nbformat": 4,
  "cells": [
    {
      "cell_type": "markdown",
      "source": [
        "# Finetuning a vanilla BART-base mdoel on FindSum dataset\n",
        "<br/>\n",
        "We use this model in the Briefing Agent of our project. TWe hope to develop a finetuned model that can generate clear, concise and accurate summaries for financial reports."
      ],
      "metadata": {
        "id": "CTJ_eudMUfaj"
      }
    },
    {
      "cell_type": "code",
      "source": [
        "!pip install evaluate"
      ],
      "metadata": {
        "trusted": true,
        "id": "2C9nLudnUO4b"
      },
      "outputs": [],
      "execution_count": null
    },
    {
      "cell_type": "markdown",
      "source": [
        "An outline of the FindSum dataset structure"
      ],
      "metadata": {
        "id": "EihTx2rNVCrX"
      }
    },
    {
      "cell_type": "code",
      "source": [
        "import os\n",
        "\n",
        "for dirname, _, filenames in os.walk(\"/kaggle/input\"):\n",
        "    print(f\"\\n📁 {dirname}\")\n",
        "    for filename in filenames:\n",
        "        print(f\"  - {filename}\")\n",
        ""
      ],
      "metadata": {
        "trusted": true,
        "execution": {
          "iopub.status.busy": "2025-04-06T20:10:34.988242Z",
          "iopub.execute_input": "2025-04-06T20:10:34.988549Z",
          "iopub.status.idle": "2025-04-06T20:10:35.006755Z",
          "shell.execute_reply.started": "2025-04-06T20:10:34.988526Z",
          "shell.execute_reply": "2025-04-06T20:10:35.005923Z"
        },
        "id": "zEzBuHUqUO4b",
        "outputId": "685c7d01-df95-457d-8ea4-f1211817c387"
      },
      "outputs": [
        {
          "name": "stdout",
          "text": "\n📁 /kaggle/input\n\n📁 /kaggle/input/summary\n\n📁 /kaggle/input/summary/FINDSum-ROO\n\n📁 /kaggle/input/summary/FINDSum-ROO/roo_input_2000\n  - train_roo_segment_0_input_2_1000.csv\n  - val_roo_segment_0_input_2_1000.csv\n  - val_roo_segment_1_input_2_1000.csv\n  - test_roo_segment_0_input_2_1000.csv\n  - train_roo_segment_1_input_2_1000.csv\n  - test_roo_segment_1_input_2_1000.csv\n",
          "output_type": "stream"
        }
      ],
      "execution_count": null
    },
    {
      "cell_type": "markdown",
      "source": [
        "Loading and preproicessing the dataset including removing missing values and tokenizing using bold **BART Tokenizer**"
      ],
      "metadata": {
        "id": "xM79TiisVHFO"
      }
    },
    {
      "cell_type": "code",
      "source": [
        "from datasets import Dataset, DatasetDict\n",
        "\n",
        "train_files = [\n",
        "    f\"{DATA_PATH}/train_roo_segment_0_input_2_1000.csv\",\n",
        "    f\"{DATA_PATH}/train_roo_segment_1_input_2_1000.csv\"\n",
        "]\n",
        "\n",
        "val_files = [\n",
        "    f\"{DATA_PATH}/val_roo_segment_0_input_2_1000.csv\",\n",
        "    f\"{DATA_PATH}/val_roo_segment_1_input_2_1000.csv\",\n",
        "    f\"{DATA_PATH}/test_roo_segment_0_input_2_1000.csv\",\n",
        "    f\"{DATA_PATH}/test_roo_segment_1_input_2_1000.csv\"\n",
        "]\n",
        "\n",
        "# Load and concat\n",
        "train_df = pd.concat([pd.read_csv(f) for f in train_files], ignore_index=True)\n",
        "val_df = pd.concat([pd.read_csv(f) for f in val_files], ignore_index=True)\n",
        "\n",
        "# Drop missing\n",
        "train_df = train_df.dropna(subset=[\"document\", \"summary\"])\n",
        "val_df = val_df.dropna(subset=[\"document\", \"summary\"])\n",
        "\n",
        "# Convert to Hugging Face Dataset\n",
        "dataset = DatasetDict({\n",
        "    \"train\": Dataset.from_pandas(train_df[[\"document\", \"summary\"]]),\n",
        "    \"validation\": Dataset.from_pandas(val_df[[\"document\", \"summary\"]])\n",
        "})\n"
      ],
      "metadata": {
        "_uuid": "8f2839f25d086af736a60e9eeb907d3b93b6e0e5",
        "_cell_guid": "b1076dfc-b9ad-4769-8c92-a6c4dae69d19",
        "trusted": true,
        "execution": {
          "iopub.status.busy": "2025-04-06T20:28:24.758939Z",
          "iopub.execute_input": "2025-04-06T20:28:24.759314Z",
          "iopub.status.idle": "2025-04-06T20:28:37.037998Z",
          "shell.execute_reply.started": "2025-04-06T20:28:24.759290Z",
          "shell.execute_reply": "2025-04-06T20:28:37.037043Z"
        },
        "id": "MMEaRXevUO4c"
      },
      "outputs": [],
      "execution_count": null
    },
    {
      "cell_type": "code",
      "source": [
        "from transformers import BartTokenizer\n",
        "\n",
        "tokenizer = BartTokenizer.from_pretrained(\"facebook/bart-base\")\n",
        "MAX_INPUT = 1024\n",
        "MAX_TARGET = 256\n",
        "\n",
        "def preprocess(example):\n",
        "    model_inputs = tokenizer(\n",
        "        example[\"document\"], max_length=MAX_INPUT, truncation=True, padding=\"max_length\"\n",
        "    )\n",
        "    with tokenizer.as_target_tokenizer():\n",
        "        labels = tokenizer(\n",
        "            example[\"summary\"], max_length=MAX_TARGET, truncation=True, padding=\"max_length\"\n",
        "        )\n",
        "    model_inputs[\"labels\"] = labels[\"input_ids\"]\n",
        "    return model_inputs\n",
        "\n",
        "tokenized_dataset = dataset.map(preprocess, batched=True, remove_columns=[\"document\", \"summary\"])\n"
      ],
      "metadata": {
        "trusted": true,
        "execution": {
          "iopub.status.busy": "2025-04-06T20:28:37.039204Z",
          "iopub.execute_input": "2025-04-06T20:28:37.039500Z",
          "iopub.status.idle": "2025-04-06T20:41:50.434235Z",
          "shell.execute_reply.started": "2025-04-06T20:28:37.039477Z",
          "shell.execute_reply": "2025-04-06T20:41:50.433533Z"
        },
        "colab": {
          "referenced_widgets": [
            "f76cb39a3f2c48458ced0eda0b348b68",
            "7dca2272e52d4af58e4a7c205b408e07"
          ]
        },
        "id": "4kBJALfFUO4c",
        "outputId": "3df2ba57-0f6d-4b90-df46-a75e0a09efc9"
      },
      "outputs": [
        {
          "output_type": "display_data",
          "data": {
            "text/plain": "Map:   0%|          | 0/33640 [00:00<?, ? examples/s]",
            "application/vnd.jupyter.widget-view+json": {
              "version_major": 2,
              "version_minor": 0,
              "model_id": "f76cb39a3f2c48458ced0eda0b348b68"
            }
          },
          "metadata": {}
        },
        {
          "name": "stderr",
          "text": "/usr/local/lib/python3.10/dist-packages/transformers/tokenization_utils_base.py:3953: UserWarning: `as_target_tokenizer` is deprecated and will be removed in v5 of Transformers. You can tokenize your labels by using the argument `text_target` of the regular `__call__` method (either in the same call as your input texts if you use the same keyword arguments, or in a separate call.\n  warnings.warn(\n",
          "output_type": "stream"
        },
        {
          "output_type": "display_data",
          "data": {
            "text/plain": "Map:   0%|          | 0/8408 [00:00<?, ? examples/s]",
            "application/vnd.jupyter.widget-view+json": {
              "version_major": 2,
              "version_minor": 0,
              "model_id": "7dca2272e52d4af58e4a7c205b408e07"
            }
          },
          "metadata": {}
        }
      ],
      "execution_count": null
    },
    {
      "cell_type": "code",
      "source": [
        "!pip install --upgrade transformers"
      ],
      "metadata": {
        "trusted": true,
        "execution": {
          "iopub.status.busy": "2025-04-06T20:42:48.916338Z",
          "iopub.execute_input": "2025-04-06T20:42:48.916630Z",
          "iopub.status.idle": "2025-04-06T20:43:03.375374Z",
          "shell.execute_reply.started": "2025-04-06T20:42:48.916610Z",
          "shell.execute_reply": "2025-04-06T20:43:03.374298Z"
        },
        "id": "nGN-W4ujUO4c",
        "outputId": "63f2d576-b01b-4095-cb2e-435082948232"
      },
      "outputs": [
        {
          "name": "stdout",
          "text": "Requirement already satisfied: transformers in /usr/local/lib/python3.10/dist-packages (4.47.0)\nCollecting transformers\n  Downloading transformers-4.51.0-py3-none-any.whl.metadata (38 kB)\nRequirement already satisfied: filelock in /usr/local/lib/python3.10/dist-packages (from transformers) (3.17.0)\nCollecting huggingface-hub<1.0,>=0.30.0 (from transformers)\n  Downloading huggingface_hub-0.30.1-py3-none-any.whl.metadata (13 kB)\nRequirement already satisfied: numpy>=1.17 in /usr/local/lib/python3.10/dist-packages (from transformers) (1.26.4)\nRequirement already satisfied: packaging>=20.0 in /usr/local/lib/python3.10/dist-packages (from transformers) (24.2)\nRequirement already satisfied: pyyaml>=5.1 in /usr/local/lib/python3.10/dist-packages (from transformers) (6.0.2)\nRequirement already satisfied: regex!=2019.12.17 in /usr/local/lib/python3.10/dist-packages (from transformers) (2024.11.6)\nRequirement already satisfied: requests in /usr/local/lib/python3.10/dist-packages (from transformers) (2.32.3)\nRequirement already satisfied: tokenizers<0.22,>=0.21 in /usr/local/lib/python3.10/dist-packages (from transformers) (0.21.0)\nRequirement already satisfied: safetensors>=0.4.3 in /usr/local/lib/python3.10/dist-packages (from transformers) (0.4.5)\nRequirement already satisfied: tqdm>=4.27 in /usr/local/lib/python3.10/dist-packages (from transformers) (4.67.1)\nRequirement already satisfied: fsspec>=2023.5.0 in /usr/local/lib/python3.10/dist-packages (from huggingface-hub<1.0,>=0.30.0->transformers) (2024.12.0)\nRequirement already satisfied: typing-extensions>=3.7.4.3 in /usr/local/lib/python3.10/dist-packages (from huggingface-hub<1.0,>=0.30.0->transformers) (4.12.2)\nRequirement already satisfied: mkl_fft in /usr/local/lib/python3.10/dist-packages (from numpy>=1.17->transformers) (1.3.8)\nRequirement already satisfied: mkl_random in /usr/local/lib/python3.10/dist-packages (from numpy>=1.17->transformers) (1.2.4)\nRequirement already satisfied: mkl_umath in /usr/local/lib/python3.10/dist-packages (from numpy>=1.17->transformers) (0.1.1)\nRequirement already satisfied: mkl in /usr/local/lib/python3.10/dist-packages (from numpy>=1.17->transformers) (2025.0.1)\nRequirement already satisfied: tbb4py in /usr/local/lib/python3.10/dist-packages (from numpy>=1.17->transformers) (2022.0.0)\nRequirement already satisfied: mkl-service in /usr/local/lib/python3.10/dist-packages (from numpy>=1.17->transformers) (2.4.1)\nRequirement already satisfied: charset-normalizer<4,>=2 in /usr/local/lib/python3.10/dist-packages (from requests->transformers) (3.4.1)\nRequirement already satisfied: idna<4,>=2.5 in /usr/local/lib/python3.10/dist-packages (from requests->transformers) (3.10)\nRequirement already satisfied: urllib3<3,>=1.21.1 in /usr/local/lib/python3.10/dist-packages (from requests->transformers) (2.3.0)\nRequirement already satisfied: certifi>=2017.4.17 in /usr/local/lib/python3.10/dist-packages (from requests->transformers) (2025.1.31)\nRequirement already satisfied: intel-openmp>=2024 in /usr/local/lib/python3.10/dist-packages (from mkl->numpy>=1.17->transformers) (2024.2.0)\nRequirement already satisfied: tbb==2022.* in /usr/local/lib/python3.10/dist-packages (from mkl->numpy>=1.17->transformers) (2022.0.0)\nRequirement already satisfied: tcmlib==1.* in /usr/local/lib/python3.10/dist-packages (from tbb==2022.*->mkl->numpy>=1.17->transformers) (1.2.0)\nRequirement already satisfied: intel-cmplr-lib-rt in /usr/local/lib/python3.10/dist-packages (from mkl_umath->numpy>=1.17->transformers) (2024.2.0)\nRequirement already satisfied: intel-cmplr-lib-ur==2024.2.0 in /usr/local/lib/python3.10/dist-packages (from intel-openmp>=2024->mkl->numpy>=1.17->transformers) (2024.2.0)\nDownloading transformers-4.51.0-py3-none-any.whl (10.4 MB)\n\u001b[2K   \u001b[90m━━━━━━━━━━━━━━━━━━━━━━━━━━━━━━━━━━━━━━━━\u001b[0m \u001b[32m10.4/10.4 MB\u001b[0m \u001b[31m73.2 MB/s\u001b[0m eta \u001b[36m0:00:00\u001b[0m:00:01\u001b[0m:01\u001b[0m\n\u001b[?25hDownloading huggingface_hub-0.30.1-py3-none-any.whl (481 kB)\n\u001b[2K   \u001b[90m━━━━━━━━━━━━━━━━━━━━━━━━━━━━━━━━━━━━━━━━\u001b[0m \u001b[32m481.2/481.2 kB\u001b[0m \u001b[31m18.9 MB/s\u001b[0m eta \u001b[36m0:00:00\u001b[0m\n\u001b[?25hInstalling collected packages: huggingface-hub, transformers\n  Attempting uninstall: huggingface-hub\n    Found existing installation: huggingface-hub 0.29.0\n    Uninstalling huggingface-hub-0.29.0:\n      Successfully uninstalled huggingface-hub-0.29.0\n  Attempting uninstall: transformers\n    Found existing installation: transformers 4.47.0\n    Uninstalling transformers-4.47.0:\n      Successfully uninstalled transformers-4.47.0\nSuccessfully installed huggingface-hub-0.30.1 transformers-4.51.0\n",
          "output_type": "stream"
        }
      ],
      "execution_count": null
    },
    {
      "cell_type": "markdown",
      "source": [
        "Training this model got 3 epochs"
      ],
      "metadata": {
        "id": "ml5V1l7rVW8d"
      }
    },
    {
      "cell_type": "markdown",
      "source": [],
      "metadata": {
        "id": "VQ17flAQUO4c"
      }
    },
    {
      "cell_type": "code",
      "source": [
        "from transformers import BartForConditionalGeneration, Seq2SeqTrainingArguments, Seq2SeqTrainer\n",
        "\n",
        "# Define training arguments (no error now)\n",
        "training_args = Seq2SeqTrainingArguments(\n",
        "    output_dir=\"./bart_finetuned_roo\",\n",
        "    evaluation_strategy=\"epoch\",\n",
        "    learning_rate=2e-5,\n",
        "    per_device_train_batch_size=2,\n",
        "    per_device_eval_batch_size=2,\n",
        "    weight_decay=0.01,\n",
        "    save_total_limit=2,\n",
        "    num_train_epochs=3,\n",
        "    predict_with_generate=True,\n",
        "    logging_dir=\"./logs\",\n",
        "    logging_steps=50,\n",
        "    save_strategy=\"epoch\",\n",
        "    report_to=\"none\"\n",
        "\n",
        ")\n",
        "\n",
        "trainer = Seq2SeqTrainer(\n",
        "    model=model,\n",
        "    args=training_args,\n",
        "    train_dataset=tokenized_dataset[\"train\"],\n",
        "    eval_dataset=tokenized_dataset[\"validation\"],\n",
        "    tokenizer=tokenizer\n",
        ")\n",
        "\n",
        "trainer.train()\n"
      ],
      "metadata": {
        "trusted": true,
        "execution": {
          "iopub.status.busy": "2025-04-06T20:51:20.049972Z",
          "iopub.execute_input": "2025-04-06T20:51:20.050362Z",
          "iopub.status.idle": "2025-04-07T01:04:54.467714Z",
          "shell.execute_reply.started": "2025-04-06T20:51:20.050334Z",
          "shell.execute_reply": "2025-04-07T01:04:54.466946Z"
        },
        "id": "J7w19t_3UO4c",
        "outputId": "cdb6e575-a0ec-4f5f-96b8-974931d68970"
      },
      "outputs": [
        {
          "name": "stderr",
          "text": "/usr/local/lib/python3.10/dist-packages/transformers/training_args.py:1575: FutureWarning: `evaluation_strategy` is deprecated and will be removed in version 4.46 of 🤗 Transformers. Use `eval_strategy` instead\n  # see https://github.com/huggingface/transformers/issues/10628\n<ipython-input-18-515132716660>:21: FutureWarning: `tokenizer` is deprecated and will be removed in version 5.0.0 for `Seq2SeqTrainer.__init__`. Use `processing_class` instead.\n  trainer = Seq2SeqTrainer(\n/usr/local/lib/python3.10/dist-packages/torch/nn/parallel/_functions.py:71: UserWarning: Was asked to gather along dimension 0, but all input tensors were scalars; will instead unsqueeze and return a vector.\n  warnings.warn(\n",
          "output_type": "stream"
        },
        {
          "output_type": "display_data",
          "data": {
            "text/plain": "<IPython.core.display.HTML object>",
            "text/html": "\n    <div>\n      \n      <progress value='25230' max='25230' style='width:300px; height:20px; vertical-align: middle;'></progress>\n      [25230/25230 4:13:29, Epoch 3/3]\n    </div>\n    <table border=\"1\" class=\"dataframe\">\n  <thead>\n <tr style=\"text-align: left;\">\n      <th>Epoch</th>\n      <th>Training Loss</th>\n      <th>Validation Loss</th>\n    </tr>\n  </thead>\n  <tbody>\n    <tr>\n      <td>1</td>\n      <td>2.207100</td>\n      <td>2.134006</td>\n    </tr>\n    <tr>\n      <td>2</td>\n      <td>2.096100</td>\n      <td>2.067156</td>\n    </tr>\n    <tr>\n      <td>3</td>\n      <td>2.005000</td>\n      <td>2.054371</td>\n    </tr>\n  </tbody>\n</table><p>"
          },
          "metadata": {}
        },
        {
          "name": "stderr",
          "text": "/usr/local/lib/python3.10/dist-packages/transformers/modeling_utils.py:2817: UserWarning: Moving the following attributes in the config to the generation config: {'early_stopping': True, 'num_beams': 4, 'no_repeat_ngram_size': 3, 'forced_bos_token_id': 0}. You are seeing this warning because you've set generation parameters in the model config, as opposed to in the generation config.\n  logger.warning_once(\n/usr/local/lib/python3.10/dist-packages/torch/nn/parallel/_functions.py:71: UserWarning: Was asked to gather along dimension 0, but all input tensors were scalars; will instead unsqueeze and return a vector.\n  warnings.warn(\n/usr/local/lib/python3.10/dist-packages/torch/nn/parallel/_functions.py:71: UserWarning: Was asked to gather along dimension 0, but all input tensors were scalars; will instead unsqueeze and return a vector.\n  warnings.warn(\n/usr/local/lib/python3.10/dist-packages/torch/nn/parallel/_functions.py:71: UserWarning: Was asked to gather along dimension 0, but all input tensors were scalars; will instead unsqueeze and return a vector.\n  warnings.warn(\n",
          "output_type": "stream"
        },
        {
          "execution_count": 18,
          "output_type": "execute_result",
          "data": {
            "text/plain": "TrainOutput(global_step=25230, training_loss=2.160236401733689, metrics={'train_runtime': 15213.979, 'train_samples_per_second': 6.633, 'train_steps_per_second': 1.658, 'total_flos': 6.15346033655808e+16, 'train_loss': 2.160236401733689, 'epoch': 3.0})"
          },
          "metadata": {}
        }
      ],
      "execution_count": null
    },
    {
      "cell_type": "markdown",
      "source": [
        "Saving this model"
      ],
      "metadata": {
        "id": "DukcdClmVckA"
      }
    },
    {
      "cell_type": "code",
      "source": [
        "# Save model and tokenizer\n",
        "model.save_pretrained(\"bart_roo_finetuned\")\n",
        "tokenizer.save_pretrained(\"bart_roo_finetuned\")\n",
        "\n",
        "# Zip the folder so you can download it\n",
        "!zip -r bart_roo_finetuned.zip bart_roo_finetuned\n"
      ],
      "metadata": {
        "trusted": true,
        "execution": {
          "iopub.status.busy": "2025-04-07T01:05:35.821529Z",
          "iopub.execute_input": "2025-04-07T01:05:35.821847Z",
          "iopub.status.idle": "2025-04-07T01:06:07.681687Z",
          "shell.execute_reply.started": "2025-04-07T01:05:35.821821Z",
          "shell.execute_reply": "2025-04-07T01:06:07.680771Z"
        },
        "id": "gzhgKLPtUO4d",
        "outputId": "5054309c-7aaf-467a-c190-fd89eb9624ac"
      },
      "outputs": [
        {
          "name": "stdout",
          "text": "  adding: bart_roo_finetuned/ (stored 0%)\n  adding: bart_roo_finetuned/merges.txt (deflated 53%)\n  adding: bart_roo_finetuned/config.json (deflated 63%)\n  adding: bart_roo_finetuned/special_tokens_map.json (deflated 85%)\n  adding: bart_roo_finetuned/generation_config.json (deflated 47%)\n  adding: bart_roo_finetuned/vocab.json (deflated 68%)\n  adding: bart_roo_finetuned/model.safetensors (deflated 7%)\n  adding: bart_roo_finetuned/tokenizer_config.json (deflated 75%)\n",
          "output_type": "stream"
        }
      ],
      "execution_count": null
    },
    {
      "cell_type": "markdown",
      "source": [
        "Calculating the perplexity and plotting the train graphs"
      ],
      "metadata": {
        "id": "cNrn30WYVjY4"
      }
    },
    {
      "cell_type": "code",
      "source": [
        "import matplotlib.pyplot as plt\n",
        "import numpy as np\n",
        "\n",
        "# Extract training logs\n",
        "logs = trainer.state.log_history\n",
        "\n",
        "# Separate losses and steps\n",
        "train_loss = [entry[\"loss\"] for entry in logs if \"loss\" in entry and \"eval_loss\" not in entry]\n",
        "eval_loss = [entry[\"eval_loss\"] for entry in logs if \"eval_loss\" in entry]\n",
        "train_steps = [entry[\"step\"] for entry in logs if \"loss\" in entry and \"eval_loss\" not in entry]\n",
        "eval_steps = [entry[\"step\"] for entry in logs if \"eval_loss\" in entry]\n",
        "\n",
        "# Calculate final perplexity\n",
        "perplexity = np.exp(eval_loss[-1])\n",
        "print(f\" Final Perplexity: {perplexity:.2f}\")\n",
        "\n",
        "# Plot losses\n",
        "plt.figure(figsize=(10, 5))\n",
        "plt.plot(train_steps, train_loss, label=\"Train Loss\")\n",
        "plt.plot(eval_steps, eval_loss, label=\"Eval Loss\")\n",
        "plt.xlabel(\"Step\")\n",
        "plt.ylabel(\"Loss\")\n",
        "plt.title(\"Training & Validation Loss\")\n",
        "plt.legend()\n",
        "plt.grid(True)\n",
        "plt.show()\n"
      ],
      "metadata": {
        "trusted": true,
        "execution": {
          "iopub.status.busy": "2025-04-07T01:06:07.682944Z",
          "iopub.execute_input": "2025-04-07T01:06:07.683261Z",
          "iopub.status.idle": "2025-04-07T01:06:08.230725Z",
          "shell.execute_reply.started": "2025-04-07T01:06:07.683226Z",
          "shell.execute_reply": "2025-04-07T01:06:08.229803Z"
        },
        "id": "z2FAmk51UO4d",
        "outputId": "75846832-8275-4c9b-ebcf-386b6a01318c"
      },
      "outputs": [
        {
          "name": "stdout",
          "text": "🧠 Final Perplexity: 7.80\n",
          "output_type": "stream"
        },
        {
          "output_type": "display_data",
          "data": {
            "text/plain": "<Figure size 1000x500 with 1 Axes>",
            "image/png": "[encoded data removed]"
          },
          "metadata": {}
        }
      ],
      "execution_count": null
    },
    {
      "cell_type": "code",
      "source": [
        "!pip install rouge_score\n",
        "\n"
      ],
      "metadata": {
        "trusted": true,
        "execution": {
          "iopub.status.busy": "2025-04-07T01:07:43.094085Z",
          "iopub.execute_input": "2025-04-07T01:07:43.094382Z",
          "iopub.status.idle": "2025-04-07T01:07:49.112831Z",
          "shell.execute_reply.started": "2025-04-07T01:07:43.094360Z",
          "shell.execute_reply": "2025-04-07T01:07:49.111940Z"
        },
        "id": "0zSXUd7DUO4d",
        "outputId": "a73ef122-efbc-4e78-fda2-ec87087519b4"
      },
      "outputs": [
        {
          "name": "stdout",
          "text": "Collecting rouge_score\n  Downloading rouge_score-0.1.2.tar.gz (17 kB)\n  Preparing metadata (setup.py) ... \u001b[?25l\u001b[?25hdone\nRequirement already satisfied: absl-py in /usr/local/lib/python3.10/dist-packages (from rouge_score) (1.4.0)\nRequirement already satisfied: nltk in /usr/local/lib/python3.10/dist-packages (from rouge_score) (3.2.4)\nRequirement already satisfied: numpy in /usr/local/lib/python3.10/dist-packages (from rouge_score) (1.26.4)\nRequirement already satisfied: six>=1.14.0 in /usr/local/lib/python3.10/dist-packages (from rouge_score) (1.17.0)\nRequirement already satisfied: mkl_fft in /usr/local/lib/python3.10/dist-packages (from numpy->rouge_score) (1.3.8)\nRequirement already satisfied: mkl_random in /usr/local/lib/python3.10/dist-packages (from numpy->rouge_score) (1.2.4)\nRequirement already satisfied: mkl_umath in /usr/local/lib/python3.10/dist-packages (from numpy->rouge_score) (0.1.1)\nRequirement already satisfied: mkl in /usr/local/lib/python3.10/dist-packages (from numpy->rouge_score) (2025.0.1)\nRequirement already satisfied: tbb4py in /usr/local/lib/python3.10/dist-packages (from numpy->rouge_score) (2022.0.0)\nRequirement already satisfied: mkl-service in /usr/local/lib/python3.10/dist-packages (from numpy->rouge_score) (2.4.1)\nRequirement already satisfied: intel-openmp>=2024 in /usr/local/lib/python3.10/dist-packages (from mkl->numpy->rouge_score) (2024.2.0)\nRequirement already satisfied: tbb==2022.* in /usr/local/lib/python3.10/dist-packages (from mkl->numpy->rouge_score) (2022.0.0)\nRequirement already satisfied: tcmlib==1.* in /usr/local/lib/python3.10/dist-packages (from tbb==2022.*->mkl->numpy->rouge_score) (1.2.0)\nRequirement already satisfied: intel-cmplr-lib-rt in /usr/local/lib/python3.10/dist-packages (from mkl_umath->numpy->rouge_score) (2024.2.0)\nRequirement already satisfied: intel-cmplr-lib-ur==2024.2.0 in /usr/local/lib/python3.10/dist-packages (from intel-openmp>=2024->mkl->numpy->rouge_score) (2024.2.0)\nBuilding wheels for collected packages: rouge_score\n  Building wheel for rouge_score (setup.py) ... \u001b[?25l\u001b[?25hdone\n  Created wheel for rouge_score: filename=rouge_score-0.1.2-py3-none-any.whl size=24935 sha256=e259f16dd201da03837329a2c5cc15091e3622f9f5bbab82916839a23074dff5\n  Stored in directory: /root/.cache/pip/wheels/5f/dd/89/461065a73be61a532ff8599a28e9beef17985c9e9c31e541b4\nSuccessfully built rouge_score\nInstalling collected packages: rouge_score\nSuccessfully installed rouge_score-0.1.2\n",
          "output_type": "stream"
        }
      ],
      "execution_count": null
    },
    {
      "cell_type": "markdown",
      "source": [
        "Now, we compute the ROUGE scores to evaluate the performace of this model"
      ],
      "metadata": {
        "id": "1D90RW-uVqG3"
      }
    },
    {
      "cell_type": "code",
      "source": [
        "import evaluate\n",
        "\n",
        "rouge = evaluate.load(\"rouge\")\n",
        "\n",
        "# We'll run on 100 samples from the validation set\n",
        "sample_val = dataset[\"validation\"].select(range(100))\n",
        "\n",
        "preds, refs = [], []\n",
        "\n",
        "for example in sample_val:\n",
        "    input_ids = tokenizer(\n",
        "        example[\"document\"],\n",
        "        return_tensors=\"pt\",\n",
        "        max_length=1024,\n",
        "        truncation=True,\n",
        "        padding=\"max_length\"\n",
        "    ).input_ids.to(model.device)\n",
        "\n",
        "    output_ids = model.generate(input_ids, max_length=256)\n",
        "    pred = tokenizer.decode(output_ids[0], skip_special_tokens=True)\n",
        "    preds.append(pred)\n",
        "    refs.append(example[\"summary\"])\n",
        "\n",
        "# Compute ROUGE\n",
        "rouge_scores = rouge.compute(predictions=preds, references=refs)\n",
        "for key in rouge_scores:\n",
        "    print(f\"{key}: {rouge_scores[key]:.4f}\")\n"
      ],
      "metadata": {
        "trusted": true,
        "execution": {
          "iopub.status.busy": "2025-04-07T01:07:57.233960Z",
          "iopub.execute_input": "2025-04-07T01:07:57.234400Z",
          "iopub.status.idle": "2025-04-07T01:12:03.937936Z",
          "shell.execute_reply.started": "2025-04-07T01:07:57.234360Z",
          "shell.execute_reply": "2025-04-07T01:12:03.937089Z"
        },
        "id": "ETNJT7CuUO4d",
        "outputId": "b8168b52-52b0-4aae-91b8-c6a5b541f0b4"
      },
      "outputs": [
        {
          "name": "stdout",
          "text": "rouge1: 0.3984\nrouge2: 0.1382\nrougeL: 0.2091\nrougeLsum: 0.2092\n",
          "output_type": "stream"
        }
      ],
      "execution_count": null
    },
    {
      "cell_type": "code",
      "source": [
        "# import matplotlib.pyplot as plt\n",
        "\n",
        "# logs = trainer.state.log_history\n",
        "\n",
        "# train_loss = [x[\"loss\"] for x in logs if \"loss\" in x and \"eval_loss\" not in x]\n",
        "# eval_loss = [x[\"eval_loss\"] for x in logs if \"eval_loss\" in x]\n",
        "# steps = [x[\"step\"] for x in logs if \"loss\" in x and \"eval_loss\" not in x]\n",
        "# eval_steps = [x[\"step\"] for x in logs if \"eval_loss\" in x]\n",
        "\n",
        "# plt.figure(figsize=(10, 5))\n",
        "# plt.plot(steps, train_loss, label=\"Train Loss\")\n",
        "# plt.plot(eval_steps, eval_loss, label=\"Eval Loss\")\n",
        "# plt.xlabel(\"Step\")\n",
        "# plt.ylabel(\"Loss\")\n",
        "# plt.title(\"Training and Evaluation Loss\")\n",
        "# plt.legend()\n",
        "# plt.grid()\n",
        "# plt.show()\n"
      ],
      "metadata": {
        "trusted": true,
        "id": "o1f-rWLjUO4d"
      },
      "outputs": [],
      "execution_count": null
    }
  ]
}